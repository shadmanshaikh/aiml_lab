{
 "cells": [
  {
   "cell_type": "code",
   "execution_count": 7,
   "metadata": {},
   "outputs": [
    {
     "name": "stdout",
     "output_type": "stream",
     "text": [
      "the data is is loaded\n",
      "splitting the data to test and train\n",
      "the training data is :  (120, 4) (120,)\n",
      "the testing data is :  (30, 4) (120, 4)\n",
      "the classification class are: \n",
      "the no.0setosa\n",
      "the no.1versicolor\n",
      "the no.2virginica\n",
      "the prediction done by KNN classifier KNN=1 : \n",
      "sample : [5.8 2.8 5.1 2.4] actual data : 2 predict : 2\n",
      "sample : [6.  2.2 4.  1. ] actual data : 1 predict : 1\n",
      "sample : [5.5 4.2 1.4 0.2] actual data : 0 predict : 0\n",
      "sample : [7.3 2.9 6.3 1.8] actual data : 2 predict : 2\n",
      "sample : [5.  3.4 1.5 0.2] actual data : 0 predict : 0\n",
      "sample : [6.3 3.3 6.  2.5] actual data : 2 predict : 2\n",
      "sample : [5.  3.5 1.3 0.3] actual data : 0 predict : 0\n",
      "sample : [6.7 3.1 4.7 1.5] actual data : 1 predict : 1\n",
      "sample : [6.8 2.8 4.8 1.4] actual data : 1 predict : 1\n",
      "sample : [6.1 2.8 4.  1.3] actual data : 1 predict : 1\n",
      "sample : [6.1 2.6 5.6 1.4] actual data : 2 predict : 2\n",
      "sample : [6.4 3.2 4.5 1.5] actual data : 1 predict : 1\n",
      "sample : [6.1 2.8 4.7 1.2] actual data : 1 predict : 1\n",
      "sample : [6.5 2.8 4.6 1.5] actual data : 1 predict : 1\n",
      "sample : [6.1 2.9 4.7 1.4] actual data : 1 predict : 1\n",
      "sample : [4.9 3.6 1.4 0.1] actual data : 0 predict : 0\n",
      "sample : [6.  2.9 4.5 1.5] actual data : 1 predict : 1\n",
      "sample : [5.5 2.6 4.4 1.2] actual data : 1 predict : 1\n",
      "sample : [4.8 3.  1.4 0.3] actual data : 0 predict : 0\n",
      "sample : [5.4 3.9 1.3 0.4] actual data : 0 predict : 0\n",
      "sample : [5.6 2.8 4.9 2. ] actual data : 2 predict : 2\n",
      "sample : [5.6 3.  4.5 1.5] actual data : 1 predict : 1\n",
      "sample : [4.8 3.4 1.9 0.2] actual data : 0 predict : 0\n",
      "sample : [4.4 2.9 1.4 0.2] actual data : 0 predict : 0\n",
      "sample : [6.2 2.8 4.8 1.8] actual data : 2 predict : 2\n",
      "sample : [4.6 3.6 1.  0.2] actual data : 0 predict : 0\n",
      "sample : [5.1 3.8 1.9 0.4] actual data : 0 predict : 0\n",
      "sample : [6.2 2.9 4.3 1.3] actual data : 1 predict : 1\n",
      "sample : [5.  2.3 3.3 1. ] actual data : 1 predict : 1\n",
      "sample : [5.  3.4 1.6 0.4] actual data : 0 predict : 0\n",
      "the accuracy score of KNN is : 1.0\n",
      "the confusion matrix is : [[11  0  0]\n",
      " [ 0 13  0]\n",
      " [ 0  0  6]]\n",
      "the confusion matrix is :               precision    recall  f1-score   support\n",
      "\n",
      "           0       1.00      1.00      1.00        11\n",
      "           1       1.00      1.00      1.00        13\n",
      "           2       1.00      1.00      1.00         6\n",
      "\n",
      "    accuracy                           1.00        30\n",
      "   macro avg       1.00      1.00      1.00        30\n",
      "weighted avg       1.00      1.00      1.00        30\n",
      "\n"
     ]
    }
   ],
   "source": [
    "from sklearn.model_selection import train_test_split\n",
    "from sklearn.neighbors import KNeighborsClassifier\n",
    "from sklearn import datasets\n",
    "\n",
    "\n",
    "iris = datasets.load_iris()\n",
    "\n",
    "print(\"the data is is loaded\")\n",
    "\n",
    "x_train , x_test , y_train ,y_test = train_test_split(iris.data , iris.target , test_size = 0.2, random_state=0 )\n",
    "print(\"splitting the data to test and train\")\n",
    "\n",
    "print(\"the training data is : \", x_train.shape , y_train.shape)\n",
    "print(\"the testing data is : \", x_test.shape , x_train.shape)\n",
    "\n",
    "print(\"the classification class are: \")\n",
    "for i in range(len(iris.target_names)):\n",
    "    print(\"the no.\" + str(i) + str(iris.target_names[i]))\n",
    "\n",
    "classifier = KNeighborsClassifier(n_neighbors=1)\n",
    "classifier.fit(x_train , y_train)\n",
    "\n",
    "ypred = classifier.predict(x_test)\n",
    "\n",
    "print(\"the prediction done by KNN classifier KNN=1 : \")\n",
    "for r in range(0, len(x_test)):\n",
    "    print(\"sample :\" , str(x_test[r]) , \"actual data :\" , str(y_test[r]) , \"predict :\" , ypred[r])\n",
    "\n",
    "print(\"the accuracy score of KNN is :\" , classifier.score(x_test, y_test))\n",
    "\n",
    "from sklearn.metrics import confusion_matrix , classification_report\n",
    "\n",
    "print(\"the confusion matrix is :\" , confusion_matrix(y_test , ypred))\n",
    "print(\"the confusion matrix is :\" , classification_report(y_test , ypred))\n",
    "\n",
    "\n"
   ]
  }
 ],
 "metadata": {
  "kernelspec": {
   "display_name": "Python 3",
   "language": "python",
   "name": "python3"
  },
  "language_info": {
   "codemirror_mode": {
    "name": "ipython",
    "version": 3
   },
   "file_extension": ".py",
   "mimetype": "text/x-python",
   "name": "python",
   "nbconvert_exporter": "python",
   "pygments_lexer": "ipython3",
   "version": "3.9.13"
  },
  "orig_nbformat": 4,
  "vscode": {
   "interpreter": {
    "hash": "e83e5ba3a81d65788589642849cea47151ca6c09985d4474f3ddcc2fd942afbc"
   }
  }
 },
 "nbformat": 4,
 "nbformat_minor": 2
}
