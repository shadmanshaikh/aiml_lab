{
 "cells": [
  {
   "cell_type": "code",
   "execution_count": 11,
   "metadata": {},
   "outputs": [
    {
     "name": "stdout",
     "output_type": "stream",
     "text": [
      "dataset loaded\n",
      "test and train split of dataset\n",
      "the testing data is  (15, 4) (15,)\n",
      "the training data is  (135,) (135,)\n",
      "the target names used are : \n",
      "lable0 - setosa\n",
      "lable1 - versicolor\n",
      "lable2 - virginica\n",
      "the result of using KNN where n=1\n",
      "sample :[6.1 2.9 4.7 1.4]actual :1 predict :1\n",
      "sample :[5.5 2.4 3.8 1.1]actual :1 predict :1\n",
      "sample :[4.7 3.2 1.3 0.2]actual :0 predict :0\n",
      "sample :[4.7 3.2 1.6 0.2]actual :0 predict :0\n",
      "sample :[6.9 3.1 4.9 1.5]actual :1 predict :1\n",
      "sample :[7.2 3.2 6.  1.8]actual :2 predict :2\n",
      "sample :[5.  2.3 3.3 1. ]actual :1 predict :1\n",
      "sample :[6.4 2.8 5.6 2.2]actual :2 predict :2\n",
      "sample :[5.8 2.8 5.1 2.4]actual :2 predict :2\n",
      "sample :[6.4 3.2 4.5 1.5]actual :1 predict :1\n",
      "sample :[4.9 2.4 3.3 1. ]actual :1 predict :1\n",
      "sample :[4.9 3.  1.4 0.2]actual :0 predict :0\n",
      "sample :[7.9 3.8 6.4 2. ]actual :2 predict :2\n",
      "sample :[5.4 3.4 1.5 0.4]actual :0 predict :0\n",
      "sample :[6.1 2.6 5.6 1.4]actual :2 predict :2\n",
      "the accuracy of the model is :  1.0\n",
      "the confusion matrix is :\n",
      "[[4 0 0]\n",
      " [0 6 0]\n",
      " [0 0 5]]\n",
      "the accuracy report is :\n",
      "              precision    recall  f1-score   support\n",
      "\n",
      "           0       1.00      1.00      1.00         4\n",
      "           1       1.00      1.00      1.00         6\n",
      "           2       1.00      1.00      1.00         5\n",
      "\n",
      "    accuracy                           1.00        15\n",
      "   macro avg       1.00      1.00      1.00        15\n",
      "weighted avg       1.00      1.00      1.00        15\n",
      "\n"
     ]
    }
   ],
   "source": [
    "from sklearn.model_selection import train_test_split\n",
    "from sklearn.neighbors import KNeighborsClassifier\n",
    "from sklearn import datasets\n",
    "import pandas as pd\n",
    "import numpy as np\n",
    "\n",
    "iris = datasets.load_iris()\n",
    "\n",
    "print(\"dataset loaded\")\n",
    "\n",
    "print(\"test and train split of dataset\")\n",
    "x_train , x_test , y_train , y_test = train_test_split( iris.data , iris.target , test_size=0.1)\n",
    "print(\"the testing data is \" , x_test.shape , y_test.shape )\n",
    "print(\"the training data is \" , y_train.shape , y_train.shape )\n",
    "\n",
    "print(\"the target names used are : \")\n",
    "\n",
    "for i in range(len(iris.target_names)):\n",
    "    print(\"lable\" + str(i) + ' - ' + str(iris.target_names[i]))\n",
    "\n",
    "classifier = KNeighborsClassifier(n_neighbors=1)\n",
    "\n",
    "classifier.fit(x_train, y_train)\n",
    "\n",
    "y_pred = classifier.predict(x_test)\n",
    "\n",
    "print(\"the result of using KNN where n=1\")\n",
    "for i in range(0, len(x_test)):\n",
    "    print( \"sample :\" + str(x_test[i]) + \"actual :\" + str(y_test[i]) + \" predict :\" + str(y_pred[i]) )\n",
    "\n",
    "print(\"the accuracy of the model is : \" , classifier.score(x_test, y_test))\n",
    "\n",
    "from sklearn.metrics import classification_report \n",
    "from sklearn.metrics import confusion_matrix\n",
    "\n",
    "print(\"the confusion matrix is :\")\n",
    "print(confusion_matrix(y_test , y_pred))\n",
    "print(\"the accuracy report is :\")\n",
    "print(classification_report(y_test , y_pred))\n"
   ]
  }
 ],
 "metadata": {
  "kernelspec": {
   "display_name": "Python 3",
   "language": "python",
   "name": "python3"
  },
  "language_info": {
   "codemirror_mode": {
    "name": "ipython",
    "version": 3
   },
   "file_extension": ".py",
   "mimetype": "text/x-python",
   "name": "python",
   "nbconvert_exporter": "python",
   "pygments_lexer": "ipython3",
   "version": "3.9.13 (tags/v3.9.13:6de2ca5, May 17 2022, 16:36:42) [MSC v.1929 64 bit (AMD64)]"
  },
  "orig_nbformat": 4,
  "vscode": {
   "interpreter": {
    "hash": "e83e5ba3a81d65788589642849cea47151ca6c09985d4474f3ddcc2fd942afbc"
   }
  }
 },
 "nbformat": 4,
 "nbformat_minor": 2
}
