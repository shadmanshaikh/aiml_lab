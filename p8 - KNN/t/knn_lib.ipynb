{
 "cells": [
  {
   "cell_type": "code",
   "execution_count": 7,
   "metadata": {},
   "outputs": [
    {
     "name": "stdout",
     "output_type": "stream",
     "text": [
      "Iris dataset loaded\n",
      "the training and testing data is splitted\n",
      "the training data is  (135, 4)\n",
      "the training data is  (135,)\n",
      "the test data is  (15, 4)\n",
      "the test data is  (15,)\n",
      "the target names are: \n",
      "label0-setosa\n",
      "label1-versicolor\n",
      "label2-virginica\n",
      "the result of the classification used K=1\n",
      "sample: [4.6 3.4 1.4 0.3]actual:0predict :0\n",
      "sample: [5.8 2.6 4.  1.2]actual:1predict :1\n",
      "sample: [6.1 2.6 5.6 1.4]actual:2predict :2\n",
      "sample: [4.8 3.1 1.6 0.2]actual:0predict :0\n",
      "sample: [5.1 3.5 1.4 0.3]actual:0predict :0\n",
      "sample: [5.4 3.  4.5 1.5]actual:1predict :1\n",
      "sample: [7.4 2.8 6.1 1.9]actual:2predict :2\n",
      "sample: [5.8 2.7 3.9 1.2]actual:1predict :1\n",
      "sample: [6.8 3.  5.5 2.1]actual:2predict :2\n",
      "sample: [6.2 2.9 4.3 1.3]actual:1predict :1\n",
      "sample: [5.4 3.4 1.7 0.2]actual:0predict :0\n",
      "sample: [6.4 2.9 4.3 1.3]actual:1predict :1\n",
      "sample: [4.9 3.1 1.5 0.1]actual:0predict :0\n",
      "sample: [6.5 2.8 4.6 1.5]actual:1predict :1\n",
      "sample: [5.8 2.7 5.1 1.9]actual:2predict :2\n",
      "the accuracy of the model is :\n",
      "1.0\n",
      "the confusion matrix is:\n",
      "[[5 0 0]\n",
      " [0 6 0]\n",
      " [0 0 4]]\n",
      "the classification report\n",
      "              precision    recall  f1-score   support\n",
      "\n",
      "           0       1.00      1.00      1.00         5\n",
      "           1       1.00      1.00      1.00         6\n",
      "           2       1.00      1.00      1.00         4\n",
      "\n",
      "    accuracy                           1.00        15\n",
      "   macro avg       1.00      1.00      1.00        15\n",
      "weighted avg       1.00      1.00      1.00        15\n",
      "\n"
     ]
    }
   ],
   "source": [
    "from sklearn.model_selection import train_test_split\n",
    "from sklearn.neighbors import KNeighborsClassifier\n",
    "from sklearn import datasets\n",
    "\n",
    "iris = datasets.load_iris()\n",
    "print(\"Iris dataset loaded\")\n",
    "\n",
    "print(\"the training and testing data is splitted\")\n",
    "x_train, x_test, y_train, y_test = train_test_split(iris.data , iris.target , test_size= 0.1)\n",
    "print(\"the training data is \", x_train.shape)\n",
    "print(\"the training data is \", y_train.shape)\n",
    "\n",
    "print(\"the test data is \", x_test.shape)\n",
    "print(\"the test data is \", y_test.shape)\n",
    "\n",
    "print(\"the target names are: \")\n",
    "for i in range(len(iris.target_names)):\n",
    "    print(\"label\" + str(i) + \"-\" + str(iris.target_names[i]))\n",
    "\n",
    "classifier = KNeighborsClassifier(n_neighbors=1)\n",
    "\n",
    "classifier.fit(x_train, y_train )\n",
    "y_pred = classifier.predict(x_test)\n",
    "\n",
    "print(\"the result of the classification used K=1\")\n",
    "\n",
    "for i in range(0,len(x_test)):\n",
    "    print(\"sample: \" + str(x_test[i]) + \"actual:\" + str(y_test[i]) +\"predict :\" + str(y_pred[i]))\n",
    "\n",
    "print(\"the accuracy of the model is :\")\n",
    "print(classifier.score(x_test,y_test))\n",
    "\n",
    "from sklearn.metrics import confusion_matrix\n",
    "from sklearn.metrics import classification_report\n",
    "\n",
    "print(\"the confusion matrix is:\")\n",
    "print(confusion_matrix(y_test,y_pred))\n",
    "print(\"the classification report\")\n",
    "print(classification_report(y_test,y_pred))\n",
    "\n"
   ]
  },
  {
   "cell_type": "code",
   "execution_count": 1,
   "metadata": {},
   "outputs": [
    {
     "name": "stdout",
     "output_type": "stream",
     "text": [
      "[2, 4, 8, 16, 32]\n"
     ]
    }
   ],
   "source": [
    " l =[1,2,3,4,5]\n",
    " m = map(lambda x:2**x , l)\n",
    " print(list(m))"
   ]
  },
  {
   "cell_type": "code",
   "execution_count": 3,
   "metadata": {},
   "outputs": [
    {
     "ename": "TypeError",
     "evalue": "'int' object is not callable",
     "output_type": "error",
     "traceback": [
      "\u001b[1;31m---------------------------------------------------------------------------\u001b[0m",
      "\u001b[1;31mTypeError\u001b[0m                                 Traceback (most recent call last)",
      "\u001b[1;32mc:\\Users\\XAN\\Documents\\aiml_lab\\p8\\t\\knn_lib.ipynb Cell 3\u001b[0m in \u001b[0;36m<cell line: 2>\u001b[1;34m()\u001b[0m\n\u001b[0;32m      <a href='vscode-notebook-cell:/c%3A/Users/XAN/Documents/aiml_lab/p8/t/knn_lib.ipynb#W3sZmlsZQ%3D%3D?line=0'>1</a>\u001b[0m x \u001b[39m=\u001b[39m [\u001b[39m'\u001b[39m\u001b[39mab\u001b[39m\u001b[39m'\u001b[39m,\u001b[39m'\u001b[39m\u001b[39mcd\u001b[39m\u001b[39m'\u001b[39m]\n\u001b[1;32m----> <a href='vscode-notebook-cell:/c%3A/Users/XAN/Documents/aiml_lab/p8/t/knn_lib.ipynb#W3sZmlsZQ%3D%3D?line=1'>2</a>\u001b[0m \u001b[39mprint\u001b[39m(\u001b[39mlist\u001b[39;49m(\u001b[39mmap\u001b[39;49m(\u001b[39mlen\u001b[39;49m(x), x)))\n",
      "\u001b[1;31mTypeError\u001b[0m: 'int' object is not callable"
     ]
    }
   ],
   "source": [
    "x = ['ab','cd']\n",
    "print(list(map(len(x), x)))"
   ]
  },
  {
   "cell_type": "code",
   "execution_count": 4,
   "metadata": {},
   "outputs": [
    {
     "name": "stdout",
     "output_type": "stream",
     "text": [
      "['t', 'u', 'r', 'i', 'n', 'g']\n"
     ]
    }
   ],
   "source": [
    "print([i.lower() for i in \"TURING\"])"
   ]
  },
  {
   "cell_type": "code",
   "execution_count": 6,
   "metadata": {},
   "outputs": [
    {
     "name": "stdout",
     "output_type": "stream",
     "text": [
      "[1, 3, 6, 10]\n"
     ]
    }
   ],
   "source": [
    "a = [1,2,3,4]\n",
    "b = [sum(a[0:x+1]) for x in range(0,len(a))]\n",
    "print(b)"
   ]
  },
  {
   "cell_type": "code",
   "execution_count": 11,
   "metadata": {},
   "outputs": [
    {
     "name": "stdout",
     "output_type": "stream",
     "text": [
      "[10, 20, 30, 40]\n",
      "[10, 20, 40]\n",
      "[10, 20, 40]\n"
     ]
    }
   ],
   "source": [
    "a = [10, 20 , 30 ,40 ,50]\n",
    "a.pop()\n",
    "print(a)\n",
    "a.pop(2)\n",
    "print(a)\n",
    "b = a.copy()\n",
    "print(b)"
   ]
  },
  {
   "cell_type": "code",
   "execution_count": 13,
   "metadata": {},
   "outputs": [
    {
     "ename": "ValueError",
     "evalue": "cannot switch from automatic field numbering to manual field specification",
     "output_type": "error",
     "traceback": [
      "\u001b[1;31m---------------------------------------------------------------------------\u001b[0m",
      "\u001b[1;31mValueError\u001b[0m                                Traceback (most recent call last)",
      "\u001b[1;32mc:\\Users\\XAN\\Documents\\aiml_lab\\p8\\t\\knn_lib.ipynb Cell 7\u001b[0m in \u001b[0;36m<cell line: 1>\u001b[1;34m()\u001b[0m\n\u001b[1;32m----> <a href='vscode-notebook-cell:/c%3A/Users/XAN/Documents/aiml_lab/p8/t/knn_lib.ipynb#X10sZmlsZQ%3D%3D?line=0'>1</a>\u001b[0m \u001b[39m'\u001b[39;49m\u001b[39mThe \u001b[39;49m\u001b[39m{}\u001b[39;49;00m\u001b[39m side \u001b[39;49m\u001b[39m{1}\u001b[39;49;00m\u001b[39m \u001b[39;49m\u001b[39m{2}\u001b[39;49;00m\u001b[39m'\u001b[39;49m\u001b[39m.\u001b[39;49mformat(\u001b[39m'\u001b[39;49m\u001b[39mbright\u001b[39;49m\u001b[39m'\u001b[39;49m,\u001b[39m'\u001b[39;49m\u001b[39mof\u001b[39;49m\u001b[39m'\u001b[39;49m,\u001b[39m'\u001b[39;49m\u001b[39mlife\u001b[39;49m\u001b[39m'\u001b[39;49m)\n",
      "\u001b[1;31mValueError\u001b[0m: cannot switch from automatic field numbering to manual field specification"
     ]
    }
   ],
   "source": [
    "'The {} side {1} {2}'.format('bright','of','life')"
   ]
  },
  {
   "cell_type": "code",
   "execution_count": 16,
   "metadata": {},
   "outputs": [
    {
     "name": "stdout",
     "output_type": "stream",
     "text": [
      "abc\n",
      "abc\n",
      "abc\n",
      "abc\n"
     ]
    }
   ],
   "source": [
    "a = 'abc'\n",
    "for i in range(len(a)):\n",
    "    a[i].upper()\n",
    "\n",
    "\n",
    "print(a)"
   ]
  },
  {
   "cell_type": "code",
   "execution_count": 17,
   "metadata": {},
   "outputs": [
    {
     "name": "stdout",
     "output_type": "stream",
     "text": [
      "{'c', 'q', 'b', 'san', 'p', 'a'}\n"
     ]
    }
   ],
   "source": [
    "z = set('abc')\n",
    "z.add('san')\n",
    "z.update(set(['p','q']))\n",
    "print(z)"
   ]
  },
  {
   "cell_type": "code",
   "execution_count": 18,
   "metadata": {},
   "outputs": [
    {
     "name": "stdout",
     "output_type": "stream",
     "text": [
      "[0]\n",
      "[0, 1]\n",
      "[3, 2, 1, 0]\n",
      "[3, 2, 1, 0, 1]\n",
      "[3, 2, 1, 0, 1, 4]\n",
      "[0, 1, 0]\n",
      "[0, 1, 0, 1]\n",
      "[0, 1, 0, 1, 4]\n"
     ]
    }
   ],
   "source": [
    "def f(x, l=[]):\n",
    "    for i in range(x):\n",
    "        l.append(i*i)\n",
    "        print(l)\n",
    "\n",
    "f(2)\n",
    "f(3,[3,2,1])\n",
    "f(3)\n"
   ]
  },
  {
   "cell_type": "code",
   "execution_count": 34,
   "metadata": {},
   "outputs": [
    {
     "name": "stdout",
     "output_type": "stream",
     "text": [
      "[1, 2, 6, 12, 12, 6, 2, 1]\n"
     ]
    }
   ],
   "source": [
    "l1= [1, 2,6 ,12]\n",
    "l2 = []\n",
    "# res = l1.extends(l2)\n",
    "# print(l2)\n",
    "l2 = [ 12, 6, 2 , 1]\n",
    "res = l1 + l2\n",
    "print(res)"
   ]
  },
  {
   "cell_type": "code",
   "execution_count": 36,
   "metadata": {},
   "outputs": [
    {
     "name": "stdout",
     "output_type": "stream",
     "text": [
      "[2, 3, 4]\n"
     ]
    }
   ],
   "source": [
    "d = [1 , 2, 3]\n",
    "\n",
    "def incr(x):\n",
    "    return x+1\n",
    "\n",
    "print(list(map(incr,d)))"
   ]
  },
  {
   "cell_type": "code",
   "execution_count": 37,
   "metadata": {},
   "outputs": [
    {
     "name": "stdout",
     "output_type": "stream",
     "text": [
      "welcome\n"
     ]
    }
   ],
   "source": [
    "i = 'welcome'\n",
    "\n",
    "def welcome(i):\n",
    "    i   = i + 'welcome to turing'\n",
    "    return i\n",
    "\n",
    "welcome('Developer')\n",
    "print(i)"
   ]
  },
  {
   "cell_type": "code",
   "execution_count": 40,
   "metadata": {},
   "outputs": [
    {
     "name": "stdout",
     "output_type": "stream",
     "text": [
      "[2, 5, 6]\n"
     ]
    }
   ],
   "source": [
    "y = [2, 5, 6]\n",
    "y.sort()\n",
    "print(y)"
   ]
  },
  {
   "cell_type": "code",
   "execution_count": 24,
   "metadata": {},
   "outputs": [
    {
     "name": "stdout",
     "output_type": "stream",
     "text": [
      "['a', 'd', 'b', 'c']\n"
     ]
    }
   ],
   "source": [
    "s = ['a' , 'b' , 'c']\n",
    "s.insert(1,'d')\n",
    "print(s)"
   ]
  }
 ],
 "metadata": {
  "kernelspec": {
   "display_name": "Python 3",
   "language": "python",
   "name": "python3"
  },
  "language_info": {
   "codemirror_mode": {
    "name": "ipython",
    "version": 3
   },
   "file_extension": ".py",
   "mimetype": "text/x-python",
   "name": "python",
   "nbconvert_exporter": "python",
   "pygments_lexer": "ipython3",
   "version": "3.9.13"
  },
  "orig_nbformat": 4,
  "vscode": {
   "interpreter": {
    "hash": "e83e5ba3a81d65788589642849cea47151ca6c09985d4474f3ddcc2fd942afbc"
   }
  }
 },
 "nbformat": 4,
 "nbformat_minor": 2
}
