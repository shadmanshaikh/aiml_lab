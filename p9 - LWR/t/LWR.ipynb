{
 "cells": [
  {
   "cell_type": "code",
   "execution_count": 8,
   "metadata": {},
   "outputs": [
    {
     "data": {
      "image/png": "[encoded data removed]",
      "text/plain": [
       "<Figure size 432x288 with 1 Axes>"
      ]
     },
     "metadata": {
      "needs_background": "light"
     },
     "output_type": "display_data"
    }
   ],
   "source": [
    "import numpy as np\n",
    "import pandas as pd\n",
    "import matplotlib.pyplot as plt\n",
    "\n",
    "def kernel(point , xmat , k):\n",
    "    m , n = np.shape(xmat)\n",
    "    weights = np.mat(np.eye(m))\n",
    "\n",
    "    for j in range(m):\n",
    "        diff = point - x[j]\n",
    "        # weights[j , j] = np.exp(diff * diff.T/(-2.0 , k**2))\n",
    "        weights[j, j] = np.exp(diff * diff.T / (-2.0 * k**2))\n",
    "\n",
    "    return weights\n",
    "\n",
    "def localweights(point , xmat , ymat , k):\n",
    "    wt = kernel(point , xmat , k)\n",
    "    w = (x.T * (wt*x)).I * (x.T * wt * ymat.T)\n",
    "    return w\n",
    "\n",
    "def localweightregression(xmat , ymat , k):\n",
    "    m , n = np.shape(xmat)\n",
    "    ypred = np.zeros(m)\n",
    "\n",
    "    for i in range(m):\n",
    "        ypred[i] = xmat[i] * localweights(xmat[i] , xmat , ymat , k )\n",
    "\n",
    "    return ypred\n",
    "\n",
    "data  = pd.read_csv('../tips.csv')\n",
    "colA = np.array(data.total_bill)\n",
    "colB = np.array(data.tip)\n",
    "\n",
    "mcolA = np.mat(colA)\n",
    "mcolB = np.mat(colB)\n",
    "m = np.shape(mcolB)[1]\n",
    "one = np.ones((1,m) , dtype = int)\n",
    "\n",
    "x = np.hstack((one.T , mcolA.T))\n",
    "\n",
    "ypred = localweightregression(x, mcolB , 0.8)\n",
    "\n",
    "xsort = x.copy()\n",
    "xsort.sort(axis=0)\n",
    "plt.scatter(colA , colB , color='blue')\n",
    "plt.plot(xsort[:,1] ,  ypred[x[: , 1].argsort(0)] , linewidth=5 , color='yellow')\n",
    "plt.xlabel('total bill')\n",
    "plt.ylabel('tips')\n",
    "plt.show()"
   ]
  }
 ],
 "metadata": {
  "kernelspec": {
   "display_name": "Python 3",
   "language": "python",
   "name": "python3"
  },
  "language_info": {
   "codemirror_mode": {
    "name": "ipython",
    "version": 3
   },
   "file_extension": ".py",
   "mimetype": "text/x-python",
   "name": "python",
   "nbconvert_exporter": "python",
   "pygments_lexer": "ipython3",
   "version": "3.9.13"
  },
  "orig_nbformat": 4,
  "vscode": {
   "interpreter": {
    "hash": "e83e5ba3a81d65788589642849cea47151ca6c09985d4474f3ddcc2fd942afbc"
   }
  }
 },
 "nbformat": 4,
 "nbformat_minor": 2
}
