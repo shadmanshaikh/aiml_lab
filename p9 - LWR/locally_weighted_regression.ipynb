{
 "cells": [
  {
   "cell_type": "code",
   "execution_count": 3,
   "id": "de5e1b41",
   "metadata": {},
   "outputs": [
    {
     "name": "stdout",
     "output_type": "stream",
     "text": [
      "(244, 2)\n"
     ]
    },
    {
     "data": {
      "image/png": "[encoded data removed]",
      "text/plain": [
       "<Figure size 432x288 with 1 Axes>"
      ]
     },
     "metadata": {
      "needs_background": "light"
     },
     "output_type": "display_data"
    }
   ],
   "source": [
    "import numpy as np\n",
    "import pandas as pd\n",
    "import matplotlib.pyplot as plt\n",
    "\n",
    "def kernel(point, xmat, k):\n",
    "    m,n = np.shape(xmat)\n",
    "    weights = np.mat(np.eye((m)))\n",
    "\n",
    "    for j in range(m):\n",
    "        diff = point - X[j]\n",
    "        weights[j, j] = np.exp(diff * diff.T / (-2.0 * k**2))\n",
    "\n",
    "    return weights\n",
    "\n",
    "def localWeight(point, xmat, ymat, k):\n",
    "    wt = kernel(point, xmat, k)\n",
    "    W = (X.T * (wt*X)).I * (X.T * wt * ymat.T)\n",
    "    return W\n",
    "\n",
    "def localWeightRegression(xmat, ymat, k):\n",
    "    m,n = np.shape(xmat)\n",
    "    ypred = np.zeros(m)\n",
    "\n",
    "    for i in range(m):\n",
    "        ypred[i] = xmat[i] * localWeight(xmat[i], xmat, ymat, k)\n",
    "\n",
    "    return ypred\n",
    "\n",
    "data = pd.read_csv('tips.csv')\n",
    "colA = np.array(data.total_bill)\n",
    "colB = np.array(data.tip)\n",
    "mcolA = np.mat(colA)\n",
    "mcolB = np.mat(colB)\n",
    "m = np.shape(mcolB)[1]\n",
    "one = np.ones((1, m), dtype = int)\n",
    "# print(one)\n",
    "\n",
    "X = np.hstack((one.T, mcolA.T)) # transpose of one and mcolA\n",
    "print(X.shape)\n",
    "\n",
    "ypred = localWeightRegression(X, mcolB, 0.8)\n",
    "\n",
    "xsort = X.copy()\n",
    "xsort.sort(axis=0)\n",
    "plt.scatter(colA, colB, color='blue')\n",
    "plt.plot(xsort[:, 1], ypred[X[:, 1].argsort(0)], color='yellow',linewidth=5)\n",
    "plt.xlabel('Total Bill')\n",
    "plt.ylabel('Tip')\n",
    "plt.show()"
   ]
  },
  {
   "cell_type": "code",
   "execution_count": null,
   "id": "9a4f5ece",
   "metadata": {},
   "outputs": [],
   "source": []
  },
  {
   "cell_type": "code",
   "execution_count": null,
   "id": "d4bafd71",
   "metadata": {},
   "outputs": [],
   "source": []
  }
 ],
 "metadata": {
  "kernelspec": {
   "display_name": "Python 3.9.13 64-bit (microsoft store)",
   "language": "python",
   "name": "python3"
  },
  "language_info": {
   "codemirror_mode": {
    "name": "ipython",
    "version": 3
   },
   "file_extension": ".py",
   "mimetype": "text/x-python",
   "name": "python",
   "nbconvert_exporter": "python",
   "pygments_lexer": "ipython3",
   "version": "3.9.13 (tags/v3.9.13:6de2ca5, May 17 2022, 16:36:42) [MSC v.1929 64 bit (AMD64)]"
  },
  "vscode": {
   "interpreter": {
    "hash": "e83e5ba3a81d65788589642849cea47151ca6c09985d4474f3ddcc2fd942afbc"
   }
  }
 },
 "nbformat": 4,
 "nbformat_minor": 5
}
