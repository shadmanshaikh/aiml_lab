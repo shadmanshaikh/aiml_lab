{
 "cells": [
  {
   "cell_type": "code",
   "execution_count": 13,
   "metadata": {},
   "outputs": [
    {
     "name": "stdout",
     "output_type": "stream",
     "text": [
      "Actual input : [[0.66666667 1.        ]\n",
      " [0.33333333 0.55555556]\n",
      " [1.         0.66666667]]\n",
      "Actual output : [[0.92]\n",
      " [0.86]\n",
      " [0.89]]\n",
      "Predicted output: [[0.89771066]\n",
      " [0.88584492]\n",
      " [0.89689151]]\n"
     ]
    }
   ],
   "source": [
    "import numpy as np\n",
    "X = np.array(([2,9],[1,5],[3,6]), dtype = float)\n",
    "Y = np.array(([92],[86],[89]) , dtype = float)\n",
    "X = X/np.amax(X, axis=0)\n",
    "Y = Y/100\n",
    "# print(X)\n",
    "# print(Y)\n",
    "def sigmoid(X):\n",
    "    return 1/(1 + np.exp(-X))\n",
    "\n",
    "def derivative_sigmoid(X):\n",
    "    return X * ( 1 - X)\n",
    "\n",
    "lr = 0.5\n",
    "epochs = 100\n",
    "# input_layer = 2\n",
    "# hidden_layer = 5\n",
    "# output_layer = 1\n",
    "\n",
    "# wh = np.random.uniform(size=(input_layer , hidden_layer))\n",
    "# bh = np.random.uniform(size=(1, hidden_layer))\n",
    "# wout = np.random.uniform(size=(hidden_layer , output_layer))\n",
    "# bout = np.random.uniform(size=(1, output_layer))\n",
    "\n",
    "\n",
    "\n",
    "inputlayer_neurons = 2 \n",
    "hiddenlayer_neurons =5\n",
    "output_neurons = 1 \n",
    "\n",
    "wh=np.random.uniform(size=(inputlayer_neurons,hiddenlayer_neurons)) \n",
    "bh=np.random.uniform(size=(1,hiddenlayer_neurons)) \n",
    "wout=np.random.uniform(size=(hiddenlayer_neurons,output_neurons)) \n",
    "bout=np.random.uniform(size=(1,output_neurons)) \n",
    "\n",
    "for i in range(epochs):\n",
    "\n",
    "    hinp1 = np.dot(X, wh)\n",
    "    hinp = hinp1 + bh\n",
    "    hlayer_act = sigmoid(hinp)\n",
    "\n",
    "    inpout1 = np.dot(hlayer_act , wout)\n",
    "    inpout = inpout1 + bout\n",
    "    output = sigmoid(inpout)\n",
    "\n",
    "\n",
    "    # hinp1=np.dot(X,wh)\n",
    "    # hinp=hinp1 + bh\n",
    "    # hlayer_act = sigmoid(hinp)\n",
    "    \n",
    "    # outinp1=np.dot(hlayer_act,wout)\n",
    "    # outinp= outinp1+ bout\n",
    "    # output = sigmoid(outinp)\n",
    "\n",
    "    # EO = Y-output\n",
    "    # outputgrad = derivative_sigmoid(output)\n",
    "    # d_output = EO * outputgrad\n",
    "\n",
    "    # EH = d_output.dot(wout.T)\n",
    "    # hiddengrad = derivative_sigmoid(hlayer_act)\n",
    "    # d_hiddenlayer = EH * hiddengrad\n",
    "\n",
    "    EO = Y-output\n",
    "    outgrad = derivative_sigmoid(output)\n",
    "    d_output = EO* outgrad\n",
    "    EH = d_output.dot(wout.T)\n",
    "   \n",
    "    hiddengrad = derivative_sigmoid(hlayer_act)\n",
    "    d_hiddenlayer = EH * hiddengrad\n",
    "\n",
    "    wh+= X.T.dot(d_hiddenlayer) * lr\n",
    "    wout += hlayer_act.T.dot(d_output) * lr\n",
    "\n",
    "print(\"Actual input :\" , X)\n",
    "print(\"Actual output :\" , Y)\n",
    "print(\"Predicted output:\" , output)"
   ]
  }
 ],
 "metadata": {
  "kernelspec": {
   "display_name": "Python 3",
   "language": "python",
   "name": "python3"
  },
  "language_info": {
   "codemirror_mode": {
    "name": "ipython",
    "version": 3
   },
   "file_extension": ".py",
   "mimetype": "text/x-python",
   "name": "python",
   "nbconvert_exporter": "python",
   "pygments_lexer": "ipython3",
   "version": "3.9.13"
  },
  "orig_nbformat": 4,
  "vscode": {
   "interpreter": {
    "hash": "e83e5ba3a81d65788589642849cea47151ca6c09985d4474f3ddcc2fd942afbc"
   }
  }
 },
 "nbformat": 4,
 "nbformat_minor": 2
}
