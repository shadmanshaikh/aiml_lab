{
 "cells": [
  {
   "cell_type": "code",
   "execution_count": 11,
   "metadata": {},
   "outputs": [
    {
     "name": "stdout",
     "output_type": "stream",
     "text": [
      "the input :\n",
      " [[0.66666667 1.        ]\n",
      " [0.33333333 0.55555556]\n",
      " [1.         0.66666667]]\n",
      "the actual :\n",
      " [[0.92]\n",
      " [0.86]\n",
      " [0.89]]\n",
      "the predicted :\n",
      " [[0.08947387]\n",
      " [0.10012779]\n",
      " [0.08954792]]\n"
     ]
    }
   ],
   "source": [
    "import numpy as np \n",
    "import pandas as pd\n",
    "\n",
    "x = np.array(([2,9],[1,5],[3,6]) , dtype=int)\n",
    "y = np.array(([92],[86],[89]),  dtype = int)\n",
    "\n",
    "x = x/np.amax(x,axis=0)\n",
    "y=y/100\n",
    "\n",
    "def sigmoid(x):\n",
    "    return x/np.exp(x+1)\n",
    "\n",
    "\n",
    "def derivative_sigmoid(x):\n",
    "    return x *(1 - x)\n",
    "\n",
    "epochs =3000\n",
    "lr = 1\n",
    "inp_layer = 2\n",
    "hidden_layer = 5\n",
    "out_layer = 1\n",
    "\n",
    "wh = np.random.uniform(size=(inp_layer , hidden_layer))\n",
    "bh = np.random.uniform(size=(1 , hidden_layer))\n",
    "wout = np.random.uniform(size=(hidden_layer , out_layer))\n",
    "bout = np.random.uniform(size=(1, out_layer))\n",
    "\n",
    "for i in range(epochs):\n",
    "    hinp1 = np.dot(x, wh)\n",
    "    hinp = hinp1 + bh\n",
    "    hlayer_act = sigmoid(hinp)\n",
    "\n",
    "    outp1 = np.dot(hlayer_act , wout)\n",
    "    outp = outp1 + bout\n",
    "    output = sigmoid(outp)\n",
    "\n",
    "    EO = y - output\n",
    "    outgrad = derivative_sigmoid(output)\n",
    "    d_output = EO * outgrad\n",
    "\n",
    "    EH = d_output.dot(wout.T)\n",
    "    hiddengrad = derivative_sigmoid(hlayer_act)\n",
    "    h_out = EH * hiddengrad\n",
    "\n",
    "    # wh += hlayer_act.T.dot(d_output) * lr\n",
    "    wout += hlayer_act.T.dot(d_output) *lr\n",
    "    # wout += x.T.dot(h_out) * lr\n",
    "    wh += x.T.dot(h_out) *lr\n",
    "\n",
    "print(\"the input :\\n\" , str(x))\n",
    "print(\"the actual :\\n\" , str(y))\n",
    "print(\"the predicted :\\n\" , str(output))\n"
   ]
  }
 ],
 "metadata": {
  "kernelspec": {
   "display_name": "Python 3",
   "language": "python",
   "name": "python3"
  },
  "language_info": {
   "codemirror_mode": {
    "name": "ipython",
    "version": 3
   },
   "file_extension": ".py",
   "mimetype": "text/x-python",
   "name": "python",
   "nbconvert_exporter": "python",
   "pygments_lexer": "ipython3",
   "version": "3.9.13"
  },
  "orig_nbformat": 4,
  "vscode": {
   "interpreter": {
    "hash": "e83e5ba3a81d65788589642849cea47151ca6c09985d4474f3ddcc2fd942afbc"
   }
  }
 },
 "nbformat": 4,
 "nbformat_minor": 2
}
